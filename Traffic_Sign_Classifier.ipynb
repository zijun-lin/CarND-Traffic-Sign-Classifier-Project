{
 "cells": [
  {
   "cell_type": "markdown",
   "metadata": {},
   "source": [
    "# Self-Driving Car Engineer Nanodegree\n",
    "\n",
    "## Deep Learning\n",
    "\n",
    "## Project: Build a Traffic Sign Recognition Classifier\n",
    "\n",
    "In this notebook, a template is provided for you to implement your functionality in stages, which is required to successfully complete this project. If additional code is required that cannot be included in the notebook, be sure that the Python code is successfully imported and included in your submission if necessary. \n",
    "\n",
    "> **Note**: Once you have completed all of the code implementations, you need to finalize your work by exporting the iPython Notebook as an HTML document. Before exporting the notebook to html, all of the code cells need to have been run so that reviewers can see the final implementation and output. You can then export the notebook by using the menu above and navigating to  \\n\",\n",
    "    \"**File -> Download as -> HTML (.html)**. Include the finished document along with this notebook as your submission. \n",
    "\n",
    "In addition to implementing code, there is a writeup to complete. The writeup should be completed in a separate file, which can be either a markdown file or a pdf document. There is a [write up template](https://github.com/udacity/CarND-Traffic-Sign-Classifier-Project/blob/master/writeup_template.md) that can be used to guide the writing process. Completing the code template and writeup template will cover all of the [rubric points](https://review.udacity.com/#!/rubrics/481/view) for this project.\n",
    "\n",
    "The [rubric](https://review.udacity.com/#!/rubrics/481/view) contains \"Stand Out Suggestions\" for enhancing the project beyond the minimum requirements. The stand out suggestions are optional. If you decide to pursue the \"stand out suggestions\", you can include the code in this Ipython notebook and also discuss the results in the writeup file.\n",
    "\n",
    "\n",
    ">**Note:** Code and Markdown cells can be executed using the **Shift + Enter** keyboard shortcut. In addition, Markdown cells can be edited by typically double-clicking the cell to enter edit mode."
   ]
  },
  {
   "cell_type": "markdown",
   "metadata": {},
   "source": [
    "---\n",
    "## Step 0: Load The Data"
   ]
  },
  {
   "cell_type": "code",
   "execution_count": 1,
   "metadata": {},
   "outputs": [
    {
     "name": "stdout",
     "output_type": "stream",
     "text": [
      "Data Shape:     (34799, 32, 32, 3)\n",
      "Image Shape:    (32, 32, 3)\n",
      "Training Set:   34799 samples\n",
      "Validation Set: 4410 samples\n",
      "Test Set:       12630 samples\n"
     ]
    }
   ],
   "source": [
    "# Load pickled data\n",
    "import pickle\n",
    "import random\n",
    "import matplotlib.pyplot as plt\n",
    "from sklearn.utils import shuffle\n",
    "from tensorflow.contrib.layers import flatten\n",
    "import tensorflow as tf\n",
    "import numpy as np\n",
    "import cv2\n",
    "import os\n",
    "\n",
    "# TODO: Fill this in based on where you saved the training and testing data\n",
    "training_file = '../data/train.p'\n",
    "validation_file = '../data/valid.p'\n",
    "testing_file = '../data/test.p'\n",
    "\n",
    "with open(training_file, mode='rb') as f:\n",
    "    train = pickle.load(f)\n",
    "with open(validation_file, mode='rb') as f:\n",
    "    valid = pickle.load(f)\n",
    "with open(testing_file, mode='rb') as f:\n",
    "    test = pickle.load(f)\n",
    "    \n",
    "X_train, y_train = train['features'], train['labels']\n",
    "X_valid, y_valid = valid['features'], valid['labels']\n",
    "X_test, y_test = test['features'], test['labels']\n",
    "\n",
    "assert(len(X_train) == len(y_train))\n",
    "assert(len(X_valid) == len(y_valid))\n",
    "assert(len(X_test) == len(y_test))\n",
    "\n",
    "print(\"Data Shape:     {}\".format(X_train.shape))\n",
    "print(\"Image Shape:    {}\".format(X_train[0].shape))\n",
    "print(\"Training Set:   {} samples\".format(len(X_train)))\n",
    "print(\"Validation Set: {} samples\".format(len(X_valid)))\n",
    "print(\"Test Set:       {} samples\".format(len(X_test)))"
   ]
  },
  {
   "cell_type": "markdown",
   "metadata": {},
   "source": [
    "---\n",
    "\n",
    "## Step 1: Dataset Summary & Exploration\n",
    "\n",
    "The pickled data is a dictionary with 4 key/value pairs:\n",
    "\n",
    "- `'features'` is a 4D array containing raw pixel data of the traffic sign images, (num examples, width, height, channels).\n",
    "- `'labels'` is a 1D array containing the label/class id of the traffic sign. The file `signnames.csv` contains id -> name mappings for each id.\n",
    "- `'sizes'` is a list containing tuples, (width, height) representing the original width and height the image.\n",
    "- `'coords'` is a list containing tuples, (x1, y1, x2, y2) representing coordinates of a bounding box around the sign in the image. **THESE COORDINATES ASSUME THE ORIGINAL IMAGE. THE PICKLED DATA CONTAINS RESIZED VERSIONS (32 by 32) OF THESE IMAGES**\n",
    "\n",
    "Complete the basic data summary below. Use python, numpy and/or pandas methods to calculate the data summary rather than hard coding the results. For example, the [pandas shape method](http://pandas.pydata.org/pandas-docs/stable/generated/pandas.DataFrame.shape.html) might be useful for calculating some of the summary results. "
   ]
  },
  {
   "cell_type": "markdown",
   "metadata": {},
   "source": [
    "### Provide a Basic Summary of the Data Set Using Python, Numpy and/or Pandas"
   ]
  },
  {
   "cell_type": "code",
   "execution_count": 2,
   "metadata": {},
   "outputs": [
    {
     "name": "stdout",
     "output_type": "stream",
     "text": [
      "Number of training examples = 34799\n",
      "Number of validation examples = 4410\n",
      "Number of testing examples = 12630\n",
      "Image data shape = (32, 32, 3)\n",
      "Number of classes = 43\n"
     ]
    }
   ],
   "source": [
    "### Replace each question mark with the appropriate value. \n",
    "### Use python, pandas or numpy methods rather than hard coding the results\n",
    "\n",
    "# TODO: Number of training examples\n",
    "n_train = len(X_train)\n",
    "\n",
    "# TODO: Number of validation examples\n",
    "n_validation = len(X_valid)\n",
    "\n",
    "# TODO: Number of testing examples.\n",
    "n_test = len(X_test)\n",
    "\n",
    "# TODO: What's the shape of an traffic sign image?\n",
    "image_shape = X_train[0].shape\n",
    "\n",
    "# TODO: How many unique classes/labels there are in the dataset.\n",
    "n_classes = len(set(y_train))\n",
    "\n",
    "print(\"Number of training examples =\", n_train)\n",
    "print(\"Number of validation examples =\", n_validation)\n",
    "print(\"Number of testing examples =\", n_test)\n",
    "print(\"Image data shape =\", image_shape)\n",
    "print(\"Number of classes =\", n_classes)"
   ]
  },
  {
   "cell_type": "markdown",
   "metadata": {},
   "source": [
    "### Include an exploratory visualization of the dataset"
   ]
  },
  {
   "cell_type": "markdown",
   "metadata": {},
   "source": [
    "Visualize the German Traffic Signs Dataset using the pickled file(s). This is open ended, suggestions include: plotting traffic sign images, plotting the count of each sign, etc. \n",
    "\n",
    "The [Matplotlib](http://matplotlib.org/) [examples](http://matplotlib.org/examples/index.html) and [gallery](http://matplotlib.org/gallery.html) pages are a great resource for doing visualizations in Python.\n",
    "\n",
    "**NOTE:** It's recommended you start with something simple first. If you wish to do more, come back to it after you've completed the rest of the sections. It can be interesting to look at the distribution of classes in the training, validation and test set. Is the distribution the same? Are there more examples of some classes than others?"
   ]
  },
  {
   "cell_type": "code",
   "execution_count": 3,
   "metadata": {
    "scrolled": true
   },
   "outputs": [
    {
     "data": {
      "image/png": "[encoded data removed]",
      "text/plain": [
       "<matplotlib.figure.Figure at 0x7fea58bac080>"
      ]
     },
     "metadata": {
      "needs_background": "light"
     },
     "output_type": "display_data"
    }
   ],
   "source": [
    "### Data exploration visualization code goes here.\n",
    "### Feel free to use as many code cells as needed.\n",
    "import matplotlib.pyplot as plt\n",
    "# Visualizations will be shown in the notebook.\n",
    "%matplotlib inline\n",
    "\n",
    "# show image of 10 random data points\n",
    "f, axs = plt.subplots(2,5, figsize=(12, 6))\n",
    "f.subplots_adjust(hspace = .2, wspace=.1)\n",
    "axs = axs.ravel()\n",
    "for i in range(10):\n",
    "    idx = random.randint(0, len(X_train))\n",
    "    image = X_train[idx]\n",
    "    axs[i].axis('off')\n",
    "    axs[i].imshow(image)\n",
    "    axs[i].set_title(y_train[idx])"
   ]
  },
  {
   "cell_type": "code",
   "execution_count": 4,
   "metadata": {},
   "outputs": [
    {
     "data": {
      "text/plain": [
       "<Container object of 43 artists>"
      ]
     },
     "execution_count": 4,
     "metadata": {},
     "output_type": "execute_result"
    },
    {
     "data": {
      "image/png": "[encoded data removed]",
      "text/plain": [
       "<matplotlib.figure.Figure at 0x7fea588d04e0>"
      ]
     },
     "metadata": {
      "needs_background": "light"
     },
     "output_type": "display_data"
    }
   ],
   "source": [
    "# histogram of label frequency\n",
    "hist, bins = np.histogram(y_train, bins=n_classes)\n",
    "width = 0.7 * (bins[1] - bins[0])\n",
    "center = (bins[:-1] + bins[1:]) / 2\n",
    "plt.bar(center, hist, align='center', width=width)\n"
   ]
  },
  {
   "cell_type": "markdown",
   "metadata": {},
   "source": [
    "----\n",
    "\n",
    "## Step 2: Design and Test a Model Architecture\n",
    "\n",
    "Design and implement a deep learning model that learns to recognize traffic signs. Train and test your model on the [German Traffic Sign Dataset](http://benchmark.ini.rub.de/?section=gtsrb&subsection=dataset).\n",
    "\n",
    "The LeNet-5 implementation shown in the [classroom](https://classroom.udacity.com/nanodegrees/nd013/parts/fbf77062-5703-404e-b60c-95b78b2f3f9e/modules/6df7ae49-c61c-4bb2-a23e-6527e69209ec/lessons/601ae704-1035-4287-8b11-e2c2716217ad/concepts/d4aca031-508f-4e0b-b493-e7b706120f81) at the end of the CNN lesson is a solid starting point. You'll have to change the number of classes and possibly the preprocessing, but aside from that it's plug and play! \n",
    "\n",
    "With the LeNet-5 solution from the lecture, you should expect a validation set accuracy of about 0.89. To meet specifications, the validation set accuracy will need to be at least 0.93. It is possible to get an even higher accuracy, but 0.93 is the minimum for a successful project submission. \n",
    "\n",
    "There are various aspects to consider when thinking about this problem:\n",
    "\n",
    "- Neural network architecture (is the network over or underfitting?)\n",
    "- Play around preprocessing techniques (normalization, rgb to grayscale, etc)\n",
    "- Number of examples per label (some have more than others).\n",
    "- Generate fake data.\n",
    "\n",
    "Here is an example of a [published baseline model on this problem](http://yann.lecun.com/exdb/publis/pdf/sermanet-ijcnn-11.pdf). It's not required to be familiar with the approach used in the paper but, it's good practice to try to read papers like these."
   ]
  },
  {
   "cell_type": "markdown",
   "metadata": {},
   "source": [
    "### Pre-process the Data Set (normalization, grayscale, etc.)"
   ]
  },
  {
   "cell_type": "markdown",
   "metadata": {},
   "source": [
    "Minimally, the image data should be normalized so that the data has mean zero and equal variance. For image data, `(pixel - 128)/ 128` is a quick way to approximately normalize the data and can be used in this project. \n",
    "\n",
    "Other pre-processing steps are optional. You can try different techniques to see if it improves performance. \n",
    "\n",
    "Use the code cell (or multiple code cells, if necessary) to implement the first step of your project."
   ]
  },
  {
   "cell_type": "code",
   "execution_count": 5,
   "metadata": {},
   "outputs": [
    {
     "name": "stdout",
     "output_type": "stream",
     "text": [
      "Before process:\n",
      "Dataset shape:  (34799, 32, 32, 3)\n",
      "Date type:  uint8\n",
      "After process:\n",
      "Dataset shape:  (34799, 32, 32, 1)\n",
      "Date type:  float64\n"
     ]
    },
    {
     "data": {
      "image/png": "[encoded data removed]",
      "text/plain": [
       "<matplotlib.figure.Figure at 0x7fea588be9b0>"
      ]
     },
     "metadata": {
      "needs_background": "light"
     },
     "output_type": "display_data"
    }
   ],
   "source": [
    "### Preprocess the data here. It is required to normalize the data. Other preprocessing steps could include \n",
    "### converting to grayscale, etc.\n",
    "### Feel free to use as many code cells as needed.\n",
    "import cv2\n",
    "import numpy as np\n",
    "from sklearn.utils import shuffle\n",
    "\n",
    "def process_image(dataset):\n",
    "    n_imgs, img_height, img_width, _ = dataset.shape\n",
    "    processed_dataset = np.zeros((n_imgs, img_height, img_width, 1))\n",
    "    for idx in range(len(dataset)):\n",
    "        img = dataset[idx]\n",
    "        gray = cv2.cvtColor(img, cv2.COLOR_RGB2GRAY)\n",
    "        processed_dataset[idx, :, :, 0] = (gray - 128.0) / 128.0\n",
    "    return processed_dataset\n",
    "\n",
    "\n",
    "# Preprocess the dataset\n",
    "X_train, y_train = shuffle(X_train, y_train)\n",
    "print('Before process:')\n",
    "print('Dataset shape: ', X_train.shape)\n",
    "print('Date type: ', X_train.dtype)\n",
    "X_train_origin = X_train\n",
    "X_train = process_image(X_train)\n",
    "X_valid = process_image(X_valid)\n",
    "X_test = process_image(X_test)\n",
    "print('After process:')\n",
    "print('Dataset shape: ', X_train.shape)\n",
    "print('Date type: ', X_train.dtype)\n",
    "\n",
    "# I display 5 random images before and after data processing\n",
    "f, axs = plt.subplots(2, 5, figsize=(12, 6))\n",
    "f.subplots_adjust(hspace=.2, wspace=.1)\n",
    "axs = axs.ravel()\n",
    "for i in range(5):\n",
    "    idx = random.randint(0, len(X_train))\n",
    "    image_origin = X_train_origin[idx]\n",
    "    image_process = X_train[idx].squeeze()\n",
    "    axs[i].axis('off')\n",
    "    axs[i].imshow(image_origin)\n",
    "    axs[i].set_title(y_train[idx])\n",
    "    axs[i+5].axis('off')\n",
    "    axs[i+5].imshow(image_process, cmap='gray')\n",
    "    axs[i+5].set_title(y_train[idx])"
   ]
  },
  {
   "cell_type": "markdown",
   "metadata": {},
   "source": [
    "### Model Architecture"
   ]
  },
  {
   "cell_type": "code",
   "execution_count": 6,
   "metadata": {},
   "outputs": [],
   "source": [
    "### Define your architecture here.\n",
    "### Feel free to use as many code cells as needed.\n",
    "epochs = 40\n",
    "batch_size = 128\n",
    "prob = 0.5\n",
    "\n",
    "\n",
    "def LeNet(x):\n",
    "    # Arguments used for tf.truncated_normal, randomly defines variables for the weights and biases for each layer\n",
    "    mu = 0\n",
    "    sigma = 0.1\n",
    "\n",
    "    # TODO: Layer 1: Convolutional. Input = 32x32x1. Output = 28x28x12.\n",
    "    w1 = tf.Variable(tf.truncated_normal([5, 5, 1, 12], mean=mu, stddev=sigma))\n",
    "    b1 = tf.Variable(tf.zeros([12]))\n",
    "    st1 = [1, 1, 1, 1]\n",
    "    layer1 = tf.nn.bias_add(tf.nn.conv2d(x, w1, st1, padding='VALID'), b1)\n",
    "    # TODO: Activation.\n",
    "    layer1 = tf.nn.relu(layer1)\n",
    "    layer1 = tf.nn.dropout(layer1, keep_prob)\n",
    "    # TODO: Pooling. Input = 28x28x12. Output = 14x14x12.\n",
    "    p_ks1 = [1, 2, 2, 1]\n",
    "    p_st1 = [1, 2, 2, 1]\n",
    "    layer1 = tf.nn.max_pool(layer1, p_ks1, p_st1, padding='VALID')\n",
    "\n",
    "    # TODO: Layer 2: Convolutional. Iutput = 14x14x12 Output = 10x10x24.\n",
    "    w2 = tf.Variable(tf.truncated_normal([5, 5, 12, 24], mean=mu, stddev=sigma))\n",
    "    b2 = tf.Variable(tf.zeros([24]))\n",
    "    st2 = [1, 1, 1, 1]\n",
    "    layer2 = tf.nn.bias_add(tf.nn.conv2d(layer1, w2, st2, padding='VALID'), b2)\n",
    "    # TODO: Activation.\n",
    "    layer2 = tf.nn.relu(layer2)\n",
    "    layer2 = tf.nn.dropout(layer2, keep_prob)\n",
    "    # TODO: Pooling. Input = 10x10x24. Output = 5x5x24.\n",
    "    p_ks2 = [1, 2, 2, 1]\n",
    "    p_st2 = [1, 2, 2, 1]\n",
    "    layer2 = tf.nn.max_pool(layer2, p_ks2, p_st2, padding='VALID')\n",
    "\n",
    "    ##############################################################\n",
    "    # TODO: Flatten. Input = 5x5x24. Output = 600.\n",
    "    f_layer = flatten(layer2)\n",
    "    ##############################################################\n",
    "\n",
    "    # TODO: Layer 0: Fully Connected. Input = 600. Output = 400.\n",
    "    f0_w = tf.Variable(tf.truncated_normal([600, 400], mean=mu, stddev=sigma))\n",
    "    f0_b = tf.Variable(tf.truncated_normal([400]))\n",
    "    f0 = tf.add(tf.matmul(f_layer, f0_w), f0_b)\n",
    "    # TODO: Activation.\n",
    "    f0 = tf.nn.relu(f0)\n",
    "    f0 = tf.nn.dropout(f0, keep_prob)\n",
    "\n",
    "    # TODO: Layer 1: Fully Connected. Input = 400. Output = 120.\n",
    "    f1_w = tf.Variable(tf.truncated_normal([400, 120], mean=mu, stddev=sigma))\n",
    "    f1_b = tf.Variable(tf.truncated_normal([120]))\n",
    "    f1 = tf.add(tf.matmul(f0, f1_w), f1_b)\n",
    "    # TODO: Activation.\n",
    "    f1 = tf.nn.relu(f1)\n",
    "    f1 = tf.nn.dropout(f1, keep_prob)\n",
    "\n",
    "    # TODO: Layer 2: Fully Connected. Input = 120. Output = 84.\n",
    "    f2_w = tf.Variable(tf.truncated_normal([120, 84], mean=mu, stddev=sigma))\n",
    "    f2_b = tf.Variable(tf.truncated_normal([84]))\n",
    "    f2 = tf.add(tf.matmul(f1, f2_w), f2_b)\n",
    "    # TODO: Activation.\n",
    "    f2 = tf.nn.relu(f2)\n",
    "    f2 = tf.nn.dropout(f2, keep_prob)\n",
    "\n",
    "    # TODO: Layer 3: Fully Connected. Input = 84. Output = 43.\n",
    "    f3_w = tf.Variable(tf.truncated_normal([84, 43], mean=mu, stddev=sigma))\n",
    "    f3_b = tf.Variable(tf.truncated_normal([43]))\n",
    "    f3 = tf.add(tf.matmul(f2, f3_w), f3_b)\n",
    "\n",
    "    logits = f3\n",
    "    return logits"
   ]
  },
  {
   "cell_type": "markdown",
   "metadata": {},
   "source": [
    "### Train, Validate and Test the Model"
   ]
  },
  {
   "cell_type": "markdown",
   "metadata": {},
   "source": [
    "A validation set can be used to assess how well the model is performing. A low accuracy on the training and validation\n",
    "sets imply underfitting. A high accuracy on the training set but low accuracy on the validation set implies overfitting."
   ]
  },
  {
   "cell_type": "code",
   "execution_count": 7,
   "metadata": {},
   "outputs": [
    {
     "name": "stdout",
     "output_type": "stream",
     "text": [
      "Training...\n",
      "\n",
      "EPOCH 1 ...\n",
      "Validation Accuracy = 0.239\n",
      "\n",
      "EPOCH 2 ...\n",
      "Validation Accuracy = 0.433\n",
      "\n",
      "EPOCH 3 ...\n",
      "Validation Accuracy = 0.593\n",
      "\n",
      "EPOCH 4 ...\n",
      "Validation Accuracy = 0.696\n",
      "\n",
      "EPOCH 5 ...\n",
      "Validation Accuracy = 0.763\n",
      "\n",
      "EPOCH 6 ...\n",
      "Validation Accuracy = 0.784\n",
      "\n",
      "EPOCH 7 ...\n",
      "Validation Accuracy = 0.830\n",
      "\n",
      "EPOCH 8 ...\n",
      "Validation Accuracy = 0.849\n",
      "\n",
      "EPOCH 9 ...\n",
      "Validation Accuracy = 0.872\n",
      "\n",
      "EPOCH 10 ...\n",
      "Validation Accuracy = 0.873\n",
      "\n",
      "EPOCH 11 ...\n",
      "Validation Accuracy = 0.868\n",
      "\n",
      "EPOCH 12 ...\n",
      "Validation Accuracy = 0.886\n",
      "\n",
      "EPOCH 13 ...\n",
      "Validation Accuracy = 0.919\n",
      "\n",
      "EPOCH 14 ...\n",
      "Validation Accuracy = 0.910\n",
      "\n",
      "EPOCH 15 ...\n",
      "Validation Accuracy = 0.915\n",
      "\n",
      "EPOCH 16 ...\n",
      "Validation Accuracy = 0.911\n",
      "\n",
      "EPOCH 17 ...\n",
      "Validation Accuracy = 0.912\n",
      "\n",
      "EPOCH 18 ...\n",
      "Validation Accuracy = 0.924\n",
      "\n",
      "EPOCH 19 ...\n",
      "Validation Accuracy = 0.931\n",
      "\n",
      "EPOCH 20 ...\n",
      "Validation Accuracy = 0.937\n",
      "\n",
      "EPOCH 21 ...\n",
      "Validation Accuracy = 0.934\n",
      "\n",
      "EPOCH 22 ...\n",
      "Validation Accuracy = 0.935\n",
      "\n",
      "EPOCH 23 ...\n",
      "Validation Accuracy = 0.946\n",
      "\n",
      "EPOCH 24 ...\n",
      "Validation Accuracy = 0.946\n",
      "\n",
      "EPOCH 25 ...\n",
      "Validation Accuracy = 0.952\n",
      "\n",
      "EPOCH 26 ...\n",
      "Validation Accuracy = 0.949\n",
      "\n",
      "EPOCH 27 ...\n",
      "Validation Accuracy = 0.938\n",
      "\n",
      "EPOCH 28 ...\n",
      "Validation Accuracy = 0.943\n",
      "\n",
      "EPOCH 29 ...\n",
      "Validation Accuracy = 0.957\n",
      "\n",
      "EPOCH 30 ...\n",
      "Validation Accuracy = 0.951\n",
      "\n",
      "EPOCH 31 ...\n",
      "Validation Accuracy = 0.946\n",
      "\n",
      "EPOCH 32 ...\n",
      "Validation Accuracy = 0.952\n",
      "\n",
      "EPOCH 33 ...\n",
      "Validation Accuracy = 0.954\n",
      "\n",
      "EPOCH 34 ...\n",
      "Validation Accuracy = 0.957\n",
      "\n",
      "EPOCH 35 ...\n",
      "Validation Accuracy = 0.959\n",
      "\n",
      "EPOCH 36 ...\n",
      "Validation Accuracy = 0.948\n",
      "\n",
      "EPOCH 37 ...\n",
      "Validation Accuracy = 0.964\n",
      "\n",
      "EPOCH 38 ...\n",
      "Validation Accuracy = 0.965\n",
      "\n",
      "EPOCH 39 ...\n",
      "Validation Accuracy = 0.965\n",
      "\n",
      "EPOCH 40 ...\n",
      "Validation Accuracy = 0.958\n",
      "\n",
      "Model saved\n",
      "INFO:tensorflow:Restoring parameters from ./lenet\n",
      "Train Accuracy = 0.995\n",
      "Validation Accuracy = 0.958\n",
      "Test Accuracy = 0.944\n"
     ]
    }
   ],
   "source": [
    "### Train your model here.\n",
    "### Calculate and report the accuracy on the training and validation set.\n",
    "### Once a final model architecture is selected, \n",
    "### the accuracy on the test set should be calculated and reported as well.\n",
    "### Feel free to use as many code cells as needed.\n",
    "# Features and Labels\n",
    "import tensorflow as tf\n",
    "from tensorflow.contrib.layers import flatten\n",
    "\n",
    "x = tf.placeholder(tf.float32, (None, 32, 32, 1))\n",
    "y = tf.placeholder(tf.int32, (None))\n",
    "keep_prob = tf.placeholder(tf.float32)\n",
    "one_hot_y = tf.one_hot(y, 43)\n",
    "\n",
    "# Training Pipeline\n",
    "rate = 0.001\n",
    "logits = LeNet(x)\n",
    "cross_entropy = tf.nn.softmax_cross_entropy_with_logits(labels=one_hot_y, logits=logits)\n",
    "loss_operation = tf.reduce_mean(cross_entropy)\n",
    "optimizer = tf.train.AdamOptimizer(learning_rate=rate)\n",
    "training_operation = optimizer.minimize(loss_operation)\n",
    "\n",
    "# Model Evaluation\n",
    "corrext_prediction = tf.equal(tf.argmax(logits, 1),\n",
    "                              tf.argmax(one_hot_y, 1))\n",
    "accuracy_operation = tf.reduce_mean(tf.cast(corrext_prediction, tf.float32))\n",
    "saver = tf.train.Saver()\n",
    "\n",
    "def evaluate(X_data, y_data):\n",
    "    num_examples = len(X_data)\n",
    "    total_accuracy = 0\n",
    "    sess = tf.get_default_session()\n",
    "    for offset in range(0, num_examples, batch_size):\n",
    "        batch_x, batch_y = X_data[offset:offset+batch_size], y_data[offset:offset+batch_size]\n",
    "        accuracy = sess.run(accuracy_operation, feed_dict={x: batch_x, y: batch_y, keep_prob: 1})\n",
    "        total_accuracy += (accuracy * len(batch_x))\n",
    "    return total_accuracy / num_examples\n",
    "\n",
    "\n",
    "# TODO Train the Model\n",
    "with tf.Session() as sess:\n",
    "    sess.run(tf.global_variables_initializer())\n",
    "    num_examples = len(X_train)\n",
    "\n",
    "    print(\"Training...\")\n",
    "    print()\n",
    "    for i in range(epochs):\n",
    "        X_train, y_train = shuffle(X_train, y_train)\n",
    "        for offset in range(0, num_examples, batch_size):\n",
    "            end = offset + batch_size\n",
    "            batch_x, batch_y = X_train[offset:end], y_train[offset:end]\n",
    "            sess.run(training_operation, feed_dict={x: batch_x, y: batch_y, keep_prob: prob})\n",
    "\n",
    "        validation_accuracy = evaluate(X_valid, y_valid)\n",
    "        print(\"EPOCH {} ...\".format(i + 1))\n",
    "        print(\"Validation Accuracy = {:.3f}\".format(validation_accuracy))\n",
    "        print()\n",
    "\n",
    "    saver.save(sess, './lenet')\n",
    "    print(\"Model saved\")\n",
    "\n",
    "# TODO Test the Model\n",
    "with tf.Session() as sess:\n",
    "    saver.restore(sess, tf.train.latest_checkpoint('.'))\n",
    "    \n",
    "    train_accuracy = evaluate(X_train, y_train)\n",
    "    print(\"Train Accuracy = {:.3f}\".format(train_accuracy))\n",
    "    \n",
    "    valid_accuracy = evaluate(X_valid, y_valid)\n",
    "    print(\"Validation Accuracy = {:.3f}\".format(valid_accuracy))\n",
    "\n",
    "    test_accuracy = evaluate(X_test, y_test)\n",
    "    print(\"Test Accuracy = {:.3f}\".format(test_accuracy))"
   ]
  },
  {
   "cell_type": "markdown",
   "metadata": {},
   "source": [
    "---\n",
    "\n",
    "## Step 3: Test a Model on New Images\n",
    "\n",
    "To give yourself more insight into how your model is working, download at least five pictures of German traffic signs from the web and use your model to predict the traffic sign type.\n",
    "\n",
    "You may find `signnames.csv` useful as it contains mappings from the class id (integer) to the actual sign name."
   ]
  },
  {
   "cell_type": "markdown",
   "metadata": {},
   "source": [
    "### Load and Output the Images"
   ]
  },
  {
   "cell_type": "code",
   "execution_count": 8,
   "metadata": {},
   "outputs": [
    {
     "name": "stdout",
     "output_type": "stream",
     "text": [
      "Image Name:  new_images/12.ppm\n",
      "Image Name:  new_images/02.ppm\n",
      "Image Name:  new_images/40.ppm\n",
      "Image Name:  new_images/42.ppm\n",
      "Image Name:  new_images/00.ppm\n",
      "Image Name:  new_images/01.ppm\n",
      "Image Name:  new_images/17.ppm\n",
      "Image Name:  new_images/35.ppm\n",
      "new_images:  (8, 32, 32, 1)\n"
     ]
    },
    {
     "data": {
      "image/png": "[encoded data removed]",
      "text/plain": [
       "<matplotlib.figure.Figure at 0x7fea55fa2518>"
      ]
     },
     "metadata": {
      "needs_background": "light"
     },
     "output_type": "display_data"
    }
   ],
   "source": [
    "### Load the images and plot them here.\n",
    "### Feel free to use as many code cells as needed.\n",
    "import glob\n",
    "import matplotlib.image as mpimg\n",
    "%matplotlib inline\n",
    "\n",
    "# TODO: Load the images and set as the dataset, \n",
    "#  The name of images represent the traffic sign labels\n",
    "new_images = []\n",
    "new_images_labels = []\n",
    "for i, fimg in enumerate(glob.glob('new_images/*.ppm')):\n",
    "    image = mpimg.imread(fimg)\n",
    "    print('Image Name: ', fimg)\n",
    "    new_images.append(image)\n",
    "    img_label = (fimg.strip('new_images/')).strip('.ppm')\n",
    "    new_images_labels.append(int(img_label))\n",
    "\n",
    "new_images = np.asarray(new_images)\n",
    "new_images_normalized = process_image(new_images)\n",
    "print('new_images: ', new_images_normalized.shape)\n",
    "\n",
    "\n",
    "# Visualization\n",
    "f, axs = plt.subplots(2,4, figsize=(12, 6))\n",
    "f.subplots_adjust(hspace = .2, wspace=.1)\n",
    "axs = axs.ravel()\n",
    "for i in range(8):\n",
    "    image = new_images[i]\n",
    "    label = new_images_labels[i]\n",
    "    axs[i].imshow(image)\n",
    "    axs[i].set_title(label)\n",
    "    axs[i].axis('off')"
   ]
  },
  {
   "cell_type": "markdown",
   "metadata": {},
   "source": [
    "### Predict the Sign Type for Each Image"
   ]
  },
  {
   "cell_type": "code",
   "execution_count": 9,
   "metadata": {},
   "outputs": [
    {
     "name": "stdout",
     "output_type": "stream",
     "text": [
      "INFO:tensorflow:Restoring parameters from ./lenet\n",
      "New Test Set Accuracy = 1.000\n"
     ]
    }
   ],
   "source": [
    "### Run the predictions here and use the model to output the prediction for each image.\n",
    "### Make sure to pre-process the images with the same pre-processing pipeline used earlier.\n",
    "### Feel free to use as many code cells as needed.\n",
    "\n",
    "with tf.Session() as sess:\n",
    "    sess.run(tf.global_variables_initializer())\n",
    "    saver = tf.train.import_meta_graph('./lenet.meta')\n",
    "    saver.restore(sess, \"./lenet\")\n",
    "    new_images_accuracy = evaluate(new_images_normalized, new_images_labels)\n",
    "    print(\"New Test Set Accuracy = {:.3f}\".format(new_images_accuracy))"
   ]
  },
  {
   "cell_type": "markdown",
   "metadata": {},
   "source": [
    "### Analyze Performance"
   ]
  },
  {
   "cell_type": "code",
   "execution_count": 10,
   "metadata": {},
   "outputs": [],
   "source": [
    "### Calculate the accuracy for these 5 new images. \n",
    "### For example, if the model predicted 1 out of 5 signs correctly, it's 20% accurate on these new images."
   ]
  },
  {
   "cell_type": "markdown",
   "metadata": {},
   "source": [
    "### Output Top 5 Softmax Probabilities For Each Image Found on the Web"
   ]
  },
  {
   "cell_type": "markdown",
   "metadata": {},
   "source": [
    "For each of the new images, print out the model's softmax probabilities to show the **certainty** of the model's predictions (limit the output to the top 5 probabilities for each image). [`tf.nn.top_k`](https://www.tensorflow.org/versions/r0.12/api_docs/python/nn.html#top_k) could prove helpful here. \n",
    "\n",
    "The example below demonstrates how tf.nn.top_k can be used to find the top k predictions for each image.\n",
    "\n",
    "`tf.nn.top_k` will return the values and indices (class ids) of the top k predictions. So if k=3, for each sign, it'll return the 3 largest probabilities (out of a possible 43) and the correspoding class ids.\n",
    "\n",
    "Take this numpy array as an example. The values in the array represent predictions. The array contains softmax probabilities for five candidate images with six possible classes. `tf.nn.top_k` is used to choose the three classes with the highest probability:\n",
    "\n",
    "```\n",
    "# (5, 6) array\n",
    "a = np.array([[ 0.24879643,  0.07032244,  0.12641572,  0.34763842,  0.07893497,\n",
    "         0.12789202],\n",
    "       [ 0.28086119,  0.27569815,  0.08594638,  0.0178669 ,  0.18063401,\n",
    "         0.15899337],\n",
    "       [ 0.26076848,  0.23664738,  0.08020603,  0.07001922,  0.1134371 ,\n",
    "         0.23892179],\n",
    "       [ 0.11943333,  0.29198961,  0.02605103,  0.26234032,  0.1351348 ,\n",
    "         0.16505091],\n",
    "       [ 0.09561176,  0.34396535,  0.0643941 ,  0.16240774,  0.24206137,\n",
    "         0.09155967]])\n",
    "```\n",
    "\n",
    "Running it through `sess.run(tf.nn.top_k(tf.constant(a), k=3))` produces:\n",
    "\n",
    "```\n",
    "TopKV2(values=array([[ 0.34763842,  0.24879643,  0.12789202],\n",
    "       [ 0.28086119,  0.27569815,  0.18063401],\n",
    "       [ 0.26076848,  0.23892179,  0.23664738],\n",
    "       [ 0.29198961,  0.26234032,  0.16505091],\n",
    "       [ 0.34396535,  0.24206137,  0.16240774]]), indices=array([[3, 0, 5],\n",
    "       [0, 1, 4],\n",
    "       [0, 5, 1],\n",
    "       [1, 3, 5],\n",
    "       [1, 4, 3]], dtype=int32))\n",
    "```\n",
    "\n",
    "Looking just at the first row we get `[ 0.34763842,  0.24879643,  0.12789202]`, you can confirm these are the 3 largest probabilities in `a`. You'll also notice `[3, 0, 5]` are the corresponding indices."
   ]
  },
  {
   "cell_type": "code",
   "execution_count": 13,
   "metadata": {},
   "outputs": [
    {
     "name": "stdout",
     "output_type": "stream",
     "text": [
      "INFO:tensorflow:Restoring parameters from ./lenet\n",
      "TopKV2(values=array([[ 19.25990868,   2.16702557,  -0.05496739,  -0.57856375,\n",
      "         -0.76799887],\n",
      "       [ 12.4054966 ,   6.67153358,   3.64173031,   2.48373556,\n",
      "          2.43848419],\n",
      "       [  6.44235706,   2.22815633,   1.95378363,   0.59966576,  -0.7436313 ],\n",
      "       [ 14.34313869,   9.63320923,   7.3887701 ,   2.70913577,\n",
      "          1.93182623],\n",
      "       [  8.01793289,   6.10177708,   2.16000271,  -0.72416687,\n",
      "         -0.81832039],\n",
      "       [ 10.81099415,   6.10091209,   4.03429842,   3.97748399,\n",
      "         -1.03867114],\n",
      "       [ 29.55239296,  10.65698433,   5.80331326,   4.42131662,\n",
      "          1.80545092],\n",
      "       [ 14.88151646,   6.96163654,   5.08525419,   2.43104386,\n",
      "          1.98111999]], dtype=float32), indices=array([[12, 40,  1,  7, 15],\n",
      "       [ 2,  1,  5,  4, 15],\n",
      "       [40,  7, 12, 37, 30],\n",
      "       [42,  6, 41, 32, 12],\n",
      "       [ 0,  1,  4, 40, 17],\n",
      "       [ 1,  0,  4,  2,  8],\n",
      "       [17,  0, 33, 34, 14],\n",
      "       [35,  3,  9, 37, 13]], dtype=int32))\n",
      "new_image_labels:  [12, 2, 40, 42, 0, 1, 17, 35]\n"
     ]
    }
   ],
   "source": [
    "### Print out the top five softmax probabilities for the predictions on the German traffic sign images found on the web. \n",
    "### Feel free to use as many code cells as needed.\n",
    "top_k = tf.nn.top_k(logits, k=5)\n",
    "\n",
    "with tf.Session() as sess:\n",
    "    sess.run(tf.global_variables_initializer())\n",
    "    saver = tf.train.import_meta_graph('./lenet.meta')\n",
    "    saver.restore(sess, \"./lenet\")\n",
    "    \n",
    "    top_k = sess.run(top_k, feed_dict={x: new_images_normalized, \n",
    "                                       y: new_images_labels, keep_prob: 1})\n",
    "    print(top_k)\n",
    "    print('new_image_labels: ', new_images_labels)"
   ]
  },
  {
   "cell_type": "markdown",
   "metadata": {},
   "source": [
    "### Project Writeup\n",
    "\n",
    "Once you have completed the code implementation, document your results in a project writeup using this [template](https://github.com/udacity/CarND-Traffic-Sign-Classifier-Project/blob/master/writeup_template.md) as a guide. The writeup can be in a markdown or pdf file. "
   ]
  },
  {
   "cell_type": "markdown",
   "metadata": {},
   "source": [
    "> **Note**: Once you have completed all of the code implementations and successfully answered each question above, you may finalize your work by exporting the iPython Notebook as an HTML document. You can do this by using the menu above and navigating to  \\n\",\n",
    "    \"**File -> Download as -> HTML (.html)**. Include the finished document along with this notebook as your submission."
   ]
  },
  {
   "cell_type": "markdown",
   "metadata": {},
   "source": [
    "---\n",
    "\n",
    "## Step 4 (Optional): Visualize the Neural Network's State with Test Images\n",
    "\n",
    " This Section is not required to complete but acts as an additional excersise for understaning the output of a neural network's weights. While neural networks can be a great learning device they are often referred to as a black box. We can understand what the weights of a neural network look like better by plotting their feature maps. After successfully training your neural network you can see what it's feature maps look like by plotting the output of the network's weight layers in response to a test stimuli image. From these plotted feature maps, it's possible to see what characteristics of an image the network finds interesting. For a sign, maybe the inner network feature maps react with high activation to the sign's boundary outline or to the contrast in the sign's painted symbol.\n",
    "\n",
    " Provided for you below is the function code that allows you to get the visualization output of any tensorflow weight layer you want. The inputs to the function should be a stimuli image, one used during training or a new one you provided, and then the tensorflow variable name that represents the layer's state during the training process, for instance if you wanted to see what the [LeNet lab's](https://classroom.udacity.com/nanodegrees/nd013/parts/fbf77062-5703-404e-b60c-95b78b2f3f9e/modules/6df7ae49-c61c-4bb2-a23e-6527e69209ec/lessons/601ae704-1035-4287-8b11-e2c2716217ad/concepts/d4aca031-508f-4e0b-b493-e7b706120f81) feature maps looked like for it's second convolutional layer you could enter conv2 as the tf_activation variable.\n",
    "\n",
    "For an example of what feature map outputs look like, check out NVIDIA's results in their paper [End-to-End Deep Learning for Self-Driving Cars](https://devblogs.nvidia.com/parallelforall/deep-learning-self-driving-cars/) in the section Visualization of internal CNN State. NVIDIA was able to show that their network's inner weights had high activations to road boundary lines by comparing feature maps from an image with a clear path to one without. Try experimenting with a similar test to show that your trained network's weights are looking for interesting features, whether it's looking at differences in feature maps from images with or without a sign, or even what feature maps look like in a trained network vs a completely untrained one on the same sign image.\n",
    "\n",
    "<figure>\n",
    " <img src=\"visualize_cnn.png\" width=\"380\" alt=\"Combined Image\" />\n",
    " <figcaption>\n",
    " <p></p> \n",
    " <p style=\"text-align: center;\"> Your output should look something like this (above)</p> \n",
    " </figcaption>\n",
    "</figure>\n",
    " <p></p> \n"
   ]
  },
  {
   "cell_type": "code",
   "execution_count": 12,
   "metadata": {},
   "outputs": [],
   "source": [
    "### Visualize your network's feature maps here.\n",
    "### Feel free to use as many code cells as needed.\n",
    "\n",
    "# image_input: the test image being fed into the network to produce the feature maps\n",
    "# tf_activation: should be a tf variable name used during your training procedure that represents the calculated state of a specific weight layer\n",
    "# activation_min/max: can be used to view the activation contrast in more detail, by default matplot sets min and max to the actual min and max values of the output\n",
    "# plt_num: used to plot out multiple different weight feature map sets on the same block, just extend the plt number for each new feature map entry\n",
    "\n",
    "def outputFeatureMap(image_input, tf_activation, activation_min=-1, activation_max=-1 ,plt_num=1):\n",
    "    # Here make sure to preprocess your image_input in a way your network expects\n",
    "    # with size, normalization, ect if needed\n",
    "    # image_input =\n",
    "    # Note: x should be the same name as your network's tensorflow data placeholder variable\n",
    "    # If you get an error tf_activation is not defined it may be having trouble accessing the variable from inside a function\n",
    "    activation = tf_activation.eval(session=sess,feed_dict={x : image_input})\n",
    "    featuremaps = activation.shape[3]\n",
    "    plt.figure(plt_num, figsize=(15,15))\n",
    "    for featuremap in range(featuremaps):\n",
    "        plt.subplot(6,8, featuremap+1) # sets the number of feature maps to show on each row and column\n",
    "        plt.title('FeatureMap ' + str(featuremap)) # displays the feature map number\n",
    "        if activation_min != -1 & activation_max != -1:\n",
    "            plt.imshow(activation[0,:,:, featuremap], interpolation=\"nearest\", vmin =activation_min, vmax=activation_max, cmap=\"gray\")\n",
    "        elif activation_max != -1:\n",
    "            plt.imshow(activation[0,:,:, featuremap], interpolation=\"nearest\", vmax=activation_max, cmap=\"gray\")\n",
    "        elif activation_min !=-1:\n",
    "            plt.imshow(activation[0,:,:, featuremap], interpolation=\"nearest\", vmin=activation_min, cmap=\"gray\")\n",
    "        else:\n",
    "            plt.imshow(activation[0,:,:, featuremap], interpolation=\"nearest\", cmap=\"gray\")"
   ]
  }
 ],
 "metadata": {
  "anaconda-cloud": {},
  "kernelspec": {
   "display_name": "Python 3",
   "language": "python",
   "name": "python3"
  },
  "language_info": {
   "codemirror_mode": {
    "name": "ipython",
    "version": 3
   },
   "file_extension": ".py",
   "mimetype": "text/x-python",
   "name": "python",
   "nbconvert_exporter": "python",
   "pygments_lexer": "ipython3",
   "version": "3.6.3"
  }
 },
 "nbformat": 4,
 "nbformat_minor": 1
}
